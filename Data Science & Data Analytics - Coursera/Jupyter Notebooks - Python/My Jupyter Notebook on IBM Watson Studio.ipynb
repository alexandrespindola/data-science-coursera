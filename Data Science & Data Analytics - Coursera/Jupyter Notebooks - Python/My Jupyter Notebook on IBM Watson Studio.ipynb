{
 "cells": [
  {
   "cell_type": "markdown",
   "metadata": {
    "collapsed": true
   },
   "source": [
    "<h1>My Jupyter Notebook on IBM Watson Studio</h1>"
   ]
  },
  {
   "cell_type": "markdown",
   "metadata": {},
   "source": [
    "<strong>Alexandre Borges Alves Spindola</strong>\n",
    "<br>Psychologist and Digital Marketing Freelancer"
   ]
  },
  {
   "cell_type": "markdown",
   "metadata": {},
   "source": [
    "<em>I am interested in data science to use in my other professional areas (psychology and digital marketing).</em>"
   ]
  },
  {
   "cell_type": "markdown",
   "metadata": {},
   "source": [
    "<h3>The following code shows the multiplication table for a number that the user chooses.</h3>"
   ]
  },
  {
   "cell_type": "code",
   "execution_count": 11,
   "metadata": {},
   "outputs": [
    {
     "name": "stdout",
     "output_type": "stream",
     "text": [
      "Type a number: 43\n",
      "43 x 1 = \u001b[1;32m43\u001b[m\n",
      "43 x 2 = \u001b[1;32m86\u001b[m\n",
      "43 x 3 = \u001b[1;32m129\u001b[m\n",
      "43 x 4 = \u001b[1;32m172\u001b[m\n",
      "43 x 5 = \u001b[1;32m215\u001b[m\n",
      "43 x 6 = \u001b[1;32m258\u001b[m\n",
      "43 x 7 = \u001b[1;32m301\u001b[m\n",
      "43 x 8 = \u001b[1;32m344\u001b[m\n",
      "43 x 9 = \u001b[1;32m387\u001b[m\n",
      "43 x 10 = \u001b[1;32m430\u001b[m\n"
     ]
    }
   ],
   "source": [
    "colors = {\n",
    "    'clean': '\\033[m', \n",
    "    'green32': '\\033[1;32m'\n",
    "}\n",
    "\n",
    "clean = colors['clean']\n",
    "green = colors['green32']\n",
    "\n",
    "number = int(input('Type a number: '))\n",
    "for c in range(1, 11):\n",
    "    print(f'{number} x {c} = {green}{number * c}{clean}')"
   ]
  },
  {
   "cell_type": "markdown",
   "metadata": {},
   "source": [
    "<hr>"
   ]
  },
  {
   "cell_type": "markdown",
   "metadata": {},
   "source": [
    "<img src=\"https://upload.wikimedia.org/wikipedia/commons/thumb/3/38/Jupyter_logo.svg/120px-Jupyter_logo.svg.png\">"
   ]
  },
  {
   "cell_type": "markdown",
   "metadata": {},
   "source": [
    "<blockquote><em><strong>\"If you torture the data long enough, it will confess.\"</strong></em><br>Ronald Coase</blockquote>"
   ]
  }
 ],
 "metadata": {
  "kernelspec": {
   "display_name": "Python 3.9",
   "language": "python",
   "name": "python3"
  },
  "language_info": {
   "codemirror_mode": {
    "name": "ipython",
    "version": 3
   },
   "file_extension": ".py",
   "mimetype": "text/x-python",
   "name": "python",
   "nbconvert_exporter": "python",
   "pygments_lexer": "ipython3",
   "version": "3.9.13"
  }
 },
 "nbformat": 4,
 "nbformat_minor": 1
}
